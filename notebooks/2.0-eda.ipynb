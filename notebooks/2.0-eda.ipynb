{
 "cells": [
  {
   "cell_type": "markdown",
   "id": "88a0372d",
   "metadata": {},
   "source": [
    "## import the Script "
   ]
  },
  {
   "cell_type": "code",
   "execution_count": 1,
   "id": "7d8b6d42",
   "metadata": {},
   "outputs": [],
   "source": [
    "import pandas as pd\n",
    "import sys\n",
    "from pathlib import Path\n",
    "\n",
    "sys.path.append(str(Path().resolve().parent / \"src\"))\n",
    "\n"
   ]
  },
  {
   "cell_type": "code",
   "execution_count": 2,
   "id": "cc856678",
   "metadata": {},
   "outputs": [],
   "source": [
    "df = pd.read_csv('/home/samrawit/credit-risk-model/data/raw/data.csv')\n"
   ]
  },
  {
   "cell_type": "code",
   "execution_count": 3,
   "id": "30563a02",
   "metadata": {},
   "outputs": [
    {
     "data": {
      "text/plain": [
       "Index(['TransactionId', 'BatchId', 'AccountId', 'SubscriptionId', 'CustomerId',\n",
       "       'CurrencyCode', 'CountryCode', 'ProviderId', 'ProductId',\n",
       "       'ProductCategory', 'ChannelId', 'Amount', 'Value',\n",
       "       'TransactionStartTime', 'PricingStrategy', 'FraudResult'],\n",
       "      dtype='object')"
      ]
     },
     "execution_count": 3,
     "metadata": {},
     "output_type": "execute_result"
    }
   ],
   "source": [
    "df.columns"
   ]
  },
  {
   "cell_type": "code",
   "execution_count": 4,
   "id": "6834e256",
   "metadata": {},
   "outputs": [],
   "source": [
    "import pandas as pd\n",
    "from  main import main"
   ]
  },
  {
   "cell_type": "code",
   "execution_count": 5,
   "id": "9b492ae9",
   "metadata": {},
   "outputs": [
    {
     "name": "stdout",
     "output_type": "stream",
     "text": [
      "Initial columns: ['TransactionId', 'BatchId', 'AccountId', 'SubscriptionId', 'CustomerId', 'CurrencyCode', 'CountryCode', 'ProviderId', 'ProductId', 'ProductCategory', 'ChannelId', 'Amount', 'Value', 'TransactionStartTime', 'PricingStrategy', 'FraudResult']\n",
      "Engineered columns: ['CustomerId', 'Total_Transaction_Amount', 'Average_Transaction_Amount', 'Transaction_Count', 'Std_Transaction_Amount']\n",
      "Final processed data shape: (3742, 4)\n"
     ]
    }
   ],
   "source": [
    "processed_data = main(df)  "
   ]
  },
  {
   "cell_type": "code",
   "execution_count": 6,
   "id": "7e61a56c",
   "metadata": {},
   "outputs": [],
   "source": [
    "processed_df = pd.DataFrame(processed_data)"
   ]
  },
  {
   "cell_type": "code",
   "execution_count": 8,
   "id": "007c2ef5",
   "metadata": {},
   "outputs": [
    {
     "data": {
      "text/html": [
       "<div>\n",
       "<style scoped>\n",
       "    .dataframe tbody tr th:only-of-type {\n",
       "        vertical-align: middle;\n",
       "    }\n",
       "\n",
       "    .dataframe tbody tr th {\n",
       "        vertical-align: top;\n",
       "    }\n",
       "\n",
       "    .dataframe thead th {\n",
       "        text-align: right;\n",
       "    }\n",
       "</style>\n",
       "<table border=\"1\" class=\"dataframe\">\n",
       "  <thead>\n",
       "    <tr style=\"text-align: right;\">\n",
       "      <th></th>\n",
       "      <th>0</th>\n",
       "      <th>1</th>\n",
       "      <th>2</th>\n",
       "      <th>3</th>\n",
       "    </tr>\n",
       "  </thead>\n",
       "  <tbody>\n",
       "    <tr>\n",
       "      <th>0</th>\n",
       "      <td>-0.066891</td>\n",
       "      <td>-0.153364</td>\n",
       "      <td>-0.253459</td>\n",
       "      <td>0.000000</td>\n",
       "    </tr>\n",
       "    <tr>\n",
       "      <th>1</th>\n",
       "      <td>-0.066891</td>\n",
       "      <td>-0.153364</td>\n",
       "      <td>-0.253459</td>\n",
       "      <td>0.000000</td>\n",
       "    </tr>\n",
       "    <tr>\n",
       "      <th>2</th>\n",
       "      <td>-0.055849</td>\n",
       "      <td>-0.069870</td>\n",
       "      <td>-0.212186</td>\n",
       "      <td>-0.105976</td>\n",
       "    </tr>\n",
       "    <tr>\n",
       "      <th>3</th>\n",
       "      <td>-0.061655</td>\n",
       "      <td>-0.091435</td>\n",
       "      <td>-0.150278</td>\n",
       "      <td>-0.168036</td>\n",
       "    </tr>\n",
       "    <tr>\n",
       "      <th>4</th>\n",
       "      <td>-0.055849</td>\n",
       "      <td>-0.073846</td>\n",
       "      <td>-0.201868</td>\n",
       "      <td>-0.111444</td>\n",
       "    </tr>\n",
       "    <tr>\n",
       "      <th>...</th>\n",
       "      <td>...</td>\n",
       "      <td>...</td>\n",
       "      <td>...</td>\n",
       "      <td>...</td>\n",
       "    </tr>\n",
       "    <tr>\n",
       "      <th>3737</th>\n",
       "      <td>-0.055849</td>\n",
       "      <td>-0.073846</td>\n",
       "      <td>-0.201868</td>\n",
       "      <td>-0.110846</td>\n",
       "    </tr>\n",
       "    <tr>\n",
       "      <th>3738</th>\n",
       "      <td>-0.055849</td>\n",
       "      <td>-0.069870</td>\n",
       "      <td>-0.212186</td>\n",
       "      <td>-0.104047</td>\n",
       "    </tr>\n",
       "    <tr>\n",
       "      <th>3739</th>\n",
       "      <td>0.136968</td>\n",
       "      <td>-0.061611</td>\n",
       "      <td>0.778355</td>\n",
       "      <td>-0.020708</td>\n",
       "    </tr>\n",
       "    <tr>\n",
       "      <th>3740</th>\n",
       "      <td>-0.012049</td>\n",
       "      <td>-0.044962</td>\n",
       "      <td>-0.088369</td>\n",
       "      <td>-0.127968</td>\n",
       "    </tr>\n",
       "    <tr>\n",
       "      <th>3741</th>\n",
       "      <td>-0.026404</td>\n",
       "      <td>-0.066617</td>\n",
       "      <td>-0.036778</td>\n",
       "      <td>-0.103739</td>\n",
       "    </tr>\n",
       "  </tbody>\n",
       "</table>\n",
       "<p>3742 rows × 4 columns</p>\n",
       "</div>"
      ],
      "text/plain": [
       "             0         1         2         3\n",
       "0    -0.066891 -0.153364 -0.253459  0.000000\n",
       "1    -0.066891 -0.153364 -0.253459  0.000000\n",
       "2    -0.055849 -0.069870 -0.212186 -0.105976\n",
       "3    -0.061655 -0.091435 -0.150278 -0.168036\n",
       "4    -0.055849 -0.073846 -0.201868 -0.111444\n",
       "...        ...       ...       ...       ...\n",
       "3737 -0.055849 -0.073846 -0.201868 -0.110846\n",
       "3738 -0.055849 -0.069870 -0.212186 -0.104047\n",
       "3739  0.136968 -0.061611  0.778355 -0.020708\n",
       "3740 -0.012049 -0.044962 -0.088369 -0.127968\n",
       "3741 -0.026404 -0.066617 -0.036778 -0.103739\n",
       "\n",
       "[3742 rows x 4 columns]"
      ]
     },
     "execution_count": 8,
     "metadata": {},
     "output_type": "execute_result"
    }
   ],
   "source": [
    "processed_df"
   ]
  },
  {
   "cell_type": "code",
   "execution_count": 7,
   "id": "c2aecb0c",
   "metadata": {},
   "outputs": [],
   "source": [
    "processed_df.to_csv(\"/home/samrawit/credit-risk-model/data/Processed/processed_data.csv\", index=False)"
   ]
  },
  {
   "cell_type": "code",
   "execution_count": null,
   "id": "98e9fffe",
   "metadata": {},
   "outputs": [],
   "source": []
  }
 ],
 "metadata": {
  "kernelspec": {
   "display_name": "base",
   "language": "python",
   "name": "python3"
  },
  "language_info": {
   "codemirror_mode": {
    "name": "ipython",
    "version": 3
   },
   "file_extension": ".py",
   "mimetype": "text/x-python",
   "name": "python",
   "nbconvert_exporter": "python",
   "pygments_lexer": "ipython3",
   "version": "3.12.7"
  }
 },
 "nbformat": 4,
 "nbformat_minor": 5
}
